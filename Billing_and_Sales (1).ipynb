{
  "nbformat": 4,
  "nbformat_minor": 0,
  "metadata": {
    "colab": {
      "name": "Billing_and_Sales.ipynb",
      "provenance": []
    },
    "kernelspec": {
      "name": "python3",
      "display_name": "Python 3"
    },
    "language_info": {
      "name": "python"
    }
  },
  "cells": [
    {
      "cell_type": "markdown",
      "metadata": {
        "id": "2g757GWga5KT"
      },
      "source": [
        "## **Reading the data**"
      ]
    },
    {
      "cell_type": "code",
      "metadata": {
        "id": "UdARLPtVa_8O"
      },
      "source": [
        "import json\n",
        "\n",
        "fd = open(\"record.json\",'r')\n",
        "r = fd.read()\n",
        "fd.close()\n",
        "\n",
        "records = json.loads(r)"
      ],
      "execution_count": 2,
      "outputs": []
    },
    {
      "cell_type": "code",
      "metadata": {
        "colab": {
          "base_uri": "https://localhost:8080/"
        },
        "id": "sBBjj4UibBLS",
        "outputId": "a0625a49-cb62-4c13-9ec9-5e3660f21446"
      },
      "source": [
        "#to check\n",
        "records"
      ],
      "execution_count": 3,
      "outputs": [
        {
          "output_type": "execute_result",
          "data": {
            "text/plain": [
              "{'1001': {'Name': 'Biscuit', 'Price': 50, 'Quantity': 100},\n",
              " '1002': {'Name': 'Chips', 'Price': 10, 'Quantity': 200},\n",
              " '1003': {'Name': 'Shampoo', 'Price': 125, 'Quantity': 100},\n",
              " '1004': {'Name': 'Chocolate', 'Price': 10, 'Quantity': 1000},\n",
              " '1005': {'Name': 'Pen', 'Price': 20, 'Quantity': 100},\n",
              " '1006': {'Name': 'oil', 'Price': 75, 'Quantity': 350},\n",
              " '1007': {'Name': 'Bottles', 'Price': 170, 'Quantity': 200},\n",
              " '1008': {'Name': 'Umbrella', 'Price': 300, 'Quantity': 30},\n",
              " '1009': {'Name': 'Graph', 'Price': 1, 'Quantity': 100},\n",
              " '1010': {'Name': 'Lipstick', 'Price': 70, 'Quantity': 50},\n",
              " '1011': {'Name': 'Comb', 'Price': 25, 'Quantity': 70},\n",
              " '1012': {'Name': 'Band', 'Price': 10, 'Quantity': 100},\n",
              " '1013': {'Name': 'Pencil', 'Price': 10, 'Quantity': 200},\n",
              " '1014': {'Name': 'Cutter', 'Price': 95, 'Quantity': 20},\n",
              " '1015': {'Name': 'Plates', 'Price': 25, 'Quantity': 100},\n",
              " '1016': {'Name': 'Hair Gel', 'Price': 200, 'Quantity': 80},\n",
              " '1017': {'Name': 'Towel', 'Price': 300, 'Quantity': 25},\n",
              " '1018': {'Name': 'Chair', 'Price': 575, 'Quantity': 10},\n",
              " '1019': {'Name': 'Frame', 'Price': 170, 'Quantity': 20},\n",
              " '1020': {'Name': 'Toys', 'Price': 300, 'Quantity': 30},\n",
              " '1021': {'Name': 'Cake', 'Price': 25, 'Quantity': 25},\n",
              " '1022': {'Name': 'Ice cream', 'Price': 10, 'Quantity': 200},\n",
              " '1023': {'Name': 'Milk', 'Price': 25, 'Quantity': 60},\n",
              " '1024': {'Name': 'Butter', 'Price': 185, 'Quantity': 30},\n",
              " '1025': {'Name': 'Paneer', 'Price': 190, 'Quantity': 25},\n",
              " '1026': {'Name': 'Mask', 'Price': 15, 'Quantity': 300},\n",
              " '1027': {'Name': 'Socks', 'Price': 170, 'Quantity': 100},\n",
              " '1028': {'Name': 'Pouch', 'Price': 30, 'Quantity': 100},\n",
              " '1029': {'Name': 'Scissors', 'Price': 90, 'Quantity': 100},\n",
              " '1031': {'Name': 'milkshake', 'Price': 25, 'Quantity': 2}}"
            ]
          },
          "metadata": {},
          "execution_count": 3
        }
      ]
    },
    {
      "cell_type": "markdown",
      "metadata": {
        "id": "vcqCkQwecOjL"
      },
      "source": [
        "## **Billing**"
      ]
    },
    {
      "cell_type": "code",
      "metadata": {
        "id": "JNPv5Q-db5Hu"
      },
      "source": [
        "sales={1:{'prod id':1001,'Quantity':2,'Amount':50}}"
      ],
      "execution_count": 4,
      "outputs": []
    },
    {
      "cell_type": "code",
      "metadata": {
        "colab": {
          "base_uri": "https://localhost:8080/"
        },
        "id": "RN15MmYKcVIh",
        "outputId": "f564041d-041e-48c7-f7f6-64f02ba6063e"
      },
      "source": [
        "n=int(input(\"No of items:\"))\n",
        "print(\"----------------------------------------\")\n",
        "itemnum=1\n",
        "total=0\n",
        "while (itemnum<=n):  \n",
        "  ui_prod  = str(input(\"Enter the product_Id: \"))\n",
        "  ui_quant = int(input(\"Enter the quantity: \"))\n",
        "  if ui_prod not in records.keys():\n",
        "    print(\"ITEM DOES NOT EXISTS\")\n",
        "    print(\"----------------------------------------\")\n",
        "    itemnum+=1\n",
        "  else:\n",
        "    billing={}\n",
        "    print(\"          Product: \", records[ui_prod]['Name'])\n",
        "    print(\"          Price: \", records[ui_prod]['Price'])\n",
        "    print(\"          Billing Amount: \", records[ui_prod]['Price'] * ui_quant)\n",
        "    print(\"----------------------------------------\")\n",
        "    records[ui_prod]['Quantity'] = records[ui_prod]['Quantity'] - ui_quant\n",
        "    tot_cost=(records[str(ui_prod)][\"Price\"]*ui_quant)\n",
        "    total+=tot_cost\n",
        "    itemnum+=1\n",
        "    sales[len(sales)+1] = {'prod_id': ui_prod, 'Quantity': ui_quant, 'Amount':  ui_quant*records[ui_prod]['Price']}\n",
        "\n",
        "else:\n",
        "  print(\"TOTAL BILLING AMOUNT:\",total)\n",
        "  print(\"----------------------------------------\")\n",
        "  print(\"***************THANKYOU***************\")"
      ],
      "execution_count": 5,
      "outputs": [
        {
          "output_type": "stream",
          "name": "stdout",
          "text": [
            "No of items:10\n",
            "----------------------------------------\n",
            "Enter the product_Id: 1001\n",
            "Enter the quantity: 2\n",
            "          Product:  Biscuit\n",
            "          Price:  50\n",
            "          Billing Amount:  100\n",
            "----------------------------------------\n",
            "Enter the product_Id: 1002\n",
            "Enter the quantity: 3\n",
            "          Product:  Chips\n",
            "          Price:  10\n",
            "          Billing Amount:  30\n",
            "----------------------------------------\n",
            "Enter the product_Id: 1003\n",
            "Enter the quantity: 2\n",
            "          Product:  Shampoo\n",
            "          Price:  125\n",
            "          Billing Amount:  250\n",
            "----------------------------------------\n",
            "Enter the product_Id: 1004\n",
            "Enter the quantity: 3\n",
            "          Product:  Chocolate\n",
            "          Price:  10\n",
            "          Billing Amount:  30\n",
            "----------------------------------------\n",
            "Enter the product_Id: 1005\n",
            "Enter the quantity: 2\n",
            "          Product:  Pen\n",
            "          Price:  20\n",
            "          Billing Amount:  40\n",
            "----------------------------------------\n",
            "Enter the product_Id: 1006\n",
            "Enter the quantity: 3\n",
            "          Product:  oil\n",
            "          Price:  75\n",
            "          Billing Amount:  225\n",
            "----------------------------------------\n",
            "Enter the product_Id: 1007\n",
            "Enter the quantity: 2\n",
            "          Product:  Bottles\n",
            "          Price:  170\n",
            "          Billing Amount:  340\n",
            "----------------------------------------\n",
            "Enter the product_Id: 1008\n",
            "Enter the quantity: 3\n",
            "          Product:  Umbrella\n",
            "          Price:  300\n",
            "          Billing Amount:  900\n",
            "----------------------------------------\n",
            "Enter the product_Id: 1009\n",
            "Enter the quantity: 3\n",
            "          Product:  Graph\n",
            "          Price:  1\n",
            "          Billing Amount:  3\n",
            "----------------------------------------\n",
            "Enter the product_Id: 1010\n",
            "Enter the quantity: 2\n",
            "          Product:  Lipstick\n",
            "          Price:  70\n",
            "          Billing Amount:  140\n",
            "----------------------------------------\n",
            "TOTAL BILLING AMOUNT: 2058\n",
            "----------------------------------------\n",
            "***************THANKYOU***************\n"
          ]
        }
      ]
    },
    {
      "cell_type": "code",
      "metadata": {
        "colab": {
          "base_uri": "https://localhost:8080/"
        },
        "id": "MCOU2iJbcXtR",
        "outputId": "b7e425ae-3e59-419a-d896-f3891f9558c1"
      },
      "source": [
        "records"
      ],
      "execution_count": 6,
      "outputs": [
        {
          "output_type": "execute_result",
          "data": {
            "text/plain": [
              "{'1001': {'Name': 'Biscuit', 'Price': 50, 'Quantity': 98},\n",
              " '1002': {'Name': 'Chips', 'Price': 10, 'Quantity': 197},\n",
              " '1003': {'Name': 'Shampoo', 'Price': 125, 'Quantity': 98},\n",
              " '1004': {'Name': 'Chocolate', 'Price': 10, 'Quantity': 997},\n",
              " '1005': {'Name': 'Pen', 'Price': 20, 'Quantity': 98},\n",
              " '1006': {'Name': 'oil', 'Price': 75, 'Quantity': 347},\n",
              " '1007': {'Name': 'Bottles', 'Price': 170, 'Quantity': 198},\n",
              " '1008': {'Name': 'Umbrella', 'Price': 300, 'Quantity': 27},\n",
              " '1009': {'Name': 'Graph', 'Price': 1, 'Quantity': 97},\n",
              " '1010': {'Name': 'Lipstick', 'Price': 70, 'Quantity': 48},\n",
              " '1011': {'Name': 'Comb', 'Price': 25, 'Quantity': 70},\n",
              " '1012': {'Name': 'Band', 'Price': 10, 'Quantity': 100},\n",
              " '1013': {'Name': 'Pencil', 'Price': 10, 'Quantity': 200},\n",
              " '1014': {'Name': 'Cutter', 'Price': 95, 'Quantity': 20},\n",
              " '1015': {'Name': 'Plates', 'Price': 25, 'Quantity': 100},\n",
              " '1016': {'Name': 'Hair Gel', 'Price': 200, 'Quantity': 80},\n",
              " '1017': {'Name': 'Towel', 'Price': 300, 'Quantity': 25},\n",
              " '1018': {'Name': 'Chair', 'Price': 575, 'Quantity': 10},\n",
              " '1019': {'Name': 'Frame', 'Price': 170, 'Quantity': 20},\n",
              " '1020': {'Name': 'Toys', 'Price': 300, 'Quantity': 30},\n",
              " '1021': {'Name': 'Cake', 'Price': 25, 'Quantity': 25},\n",
              " '1022': {'Name': 'Ice cream', 'Price': 10, 'Quantity': 200},\n",
              " '1023': {'Name': 'Milk', 'Price': 25, 'Quantity': 60},\n",
              " '1024': {'Name': 'Butter', 'Price': 185, 'Quantity': 30},\n",
              " '1025': {'Name': 'Paneer', 'Price': 190, 'Quantity': 25},\n",
              " '1026': {'Name': 'Mask', 'Price': 15, 'Quantity': 300},\n",
              " '1027': {'Name': 'Socks', 'Price': 170, 'Quantity': 100},\n",
              " '1028': {'Name': 'Pouch', 'Price': 30, 'Quantity': 100},\n",
              " '1029': {'Name': 'Scissors', 'Price': 90, 'Quantity': 100},\n",
              " '1031': {'Name': 'milkshake', 'Price': 25, 'Quantity': 2}}"
            ]
          },
          "metadata": {},
          "execution_count": 6
        }
      ]
    },
    {
      "cell_type": "code",
      "metadata": {
        "id": "EJT7BMapdNnz"
      },
      "source": [
        "#updating inventories after purchase\n",
        "js = json.dumps(records)\n",
        "\n",
        "fd = open(\"record.json\",'w')\n",
        "fd.write(js)\n",
        "fd.close()"
      ],
      "execution_count": 7,
      "outputs": []
    },
    {
      "cell_type": "markdown",
      "metadata": {
        "id": "9Nk3ygtHc_-n"
      },
      "source": [
        "### **Sales Report**"
      ]
    },
    {
      "cell_type": "code",
      "metadata": {
        "colab": {
          "base_uri": "https://localhost:8080/"
        },
        "id": "-xMjiM2vvhwi",
        "outputId": "7eb0fe92-a01f-4ee2-c22f-3cb53c2b6b7b"
      },
      "source": [
        "sales"
      ],
      "execution_count": 8,
      "outputs": [
        {
          "output_type": "execute_result",
          "data": {
            "text/plain": [
              "{1: {'Amount': 50, 'Quantity': 2, 'prod id': 1001},\n",
              " 2: {'Amount': 100, 'Quantity': 2, 'prod_id': '1001'},\n",
              " 3: {'Amount': 30, 'Quantity': 3, 'prod_id': '1002'},\n",
              " 4: {'Amount': 250, 'Quantity': 2, 'prod_id': '1003'},\n",
              " 5: {'Amount': 30, 'Quantity': 3, 'prod_id': '1004'},\n",
              " 6: {'Amount': 40, 'Quantity': 2, 'prod_id': '1005'},\n",
              " 7: {'Amount': 225, 'Quantity': 3, 'prod_id': '1006'},\n",
              " 8: {'Amount': 340, 'Quantity': 2, 'prod_id': '1007'},\n",
              " 9: {'Amount': 900, 'Quantity': 3, 'prod_id': '1008'},\n",
              " 10: {'Amount': 3, 'Quantity': 3, 'prod_id': '1009'},\n",
              " 11: {'Amount': 140, 'Quantity': 2, 'prod_id': '1010'}}"
            ]
          },
          "metadata": {},
          "execution_count": 8
        }
      ]
    },
    {
      "cell_type": "code",
      "metadata": {
        "id": "X7yW-_o0viaQ"
      },
      "source": [
        ""
      ],
      "execution_count": 8,
      "outputs": []
    }
  ]
}