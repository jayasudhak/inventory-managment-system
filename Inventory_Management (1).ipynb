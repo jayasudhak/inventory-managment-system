{
  "nbformat": 4,
  "nbformat_minor": 0,
  "metadata": {
    "colab": {
      "name": "Inventory_Management.ipynb",
      "provenance": []
    },
    "kernelspec": {
      "name": "python3",
      "display_name": "Python 3"
    },
    "language_info": {
      "name": "python"
    }
  },
  "cells": [
    {
      "cell_type": "markdown",
      "metadata": {
        "id": "ca1kzdVn02GJ"
      },
      "source": [
        "### **Reading the data**"
      ]
    },
    {
      "cell_type": "code",
      "metadata": {
        "id": "M3iwtMu_Y4rF"
      },
      "source": [
        "import json\n",
        "fd = open(\"products.txt\",'r')\n",
        "r = fd.read()\n",
        "fd.close()\n",
        "record=json.loads(r)"
      ],
      "execution_count": 1,
      "outputs": []
    },
    {
      "cell_type": "code",
      "metadata": {
        "colab": {
          "base_uri": "https://localhost:8080/"
        },
        "id": "HKQa_6L8ZEnT",
        "outputId": "94703937-dec9-4971-be03-1740c080a4ae"
      },
      "source": [
        "#to check the data\n",
        "record"
      ],
      "execution_count": 2,
      "outputs": [
        {
          "output_type": "execute_result",
          "data": {
            "text/plain": [
              "{'1001': {'Name': 'Biscuit', 'Price': 50, 'Quantity': 100},\n",
              " '1002': {'Name': 'Chips', 'Price': 10, 'Quantity': 200},\n",
              " '1003': {'Name': 'Shampoo', 'Price': 125, 'Quantity': 100},\n",
              " '1004': {'Name': 'Chocolate', 'Price': 10, 'Quantity': 1000},\n",
              " '1005': {'Name': 'Pen', 'Price': 20, 'Quantity': 100},\n",
              " '1006': {'Name': 'Oil', 'Price': 75, 'Quantity': 100},\n",
              " '1007': {'Name': 'Bottles', 'Price': 170, 'Quantity': 200},\n",
              " '1008': {'Name': 'Umbrella', 'Price': 300, 'Quantity': 30},\n",
              " '1009': {'Name': 'Graph', 'Price': 1, 'Quantity': 100},\n",
              " '1010': {'Name': 'Lipstick', 'Price': 70, 'Quantity': 50},\n",
              " '1011': {'Name': 'Comb', 'Price': 25, 'Quantity': 70},\n",
              " '1012': {'Name': 'Band', 'Price': 10, 'Quantity': 100},\n",
              " '1013': {'Name': 'Pencil', 'Price': 10, 'Quantity': 200},\n",
              " '1014': {'Name': 'Cutter', 'Price': 95, 'Quantity': 20},\n",
              " '1015': {'Name': 'Plates', 'Price': 25, 'Quantity': 100},\n",
              " '1016': {'Name': 'Hair Gel', 'Price': 200, 'Quantity': 80},\n",
              " '1017': {'Name': 'Towel', 'Price': 300, 'Quantity': 25},\n",
              " '1018': {'Name': 'Chair', 'Price': 575, 'Quantity': 10},\n",
              " '1019': {'Name': 'Frame', 'Price': 170, 'Quantity': 20},\n",
              " '1020': {'Name': 'Toys', 'Price': 300, 'Quantity': 30},\n",
              " '1021': {'Name': 'Cake', 'Price': 25, 'Quantity': 25},\n",
              " '1022': {'Name': 'Ice cream', 'Price': 10, 'Quantity': 200},\n",
              " '1023': {'Name': 'Milk', 'Price': 25, 'Quantity': 60},\n",
              " '1024': {'Name': 'Butter', 'Price': 185, 'Quantity': 30},\n",
              " '1025': {'Name': 'Paneer', 'Price': 190, 'Quantity': 25},\n",
              " '1026': {'Name': 'Mask', 'Price': 15, 'Quantity': 300},\n",
              " '1027': {'Name': 'Socks', 'Price': 170, 'Quantity': 100},\n",
              " '1028': {'Name': 'Pouch', 'Price': 30, 'Quantity': 100},\n",
              " '1029': {'Name': 'Scissors', 'Price': 90, 'Quantity': 100},\n",
              " '1030': {'Name': 'Gum', 'Price': 30, 'Quantity': 100}}"
            ]
          },
          "metadata": {},
          "execution_count": 2
        }
      ]
    },
    {
      "cell_type": "markdown",
      "metadata": {
        "id": "bzOuzvM4ZKaN"
      },
      "source": [
        "### **Adding an new item to the inventory**"
      ]
    },
    {
      "cell_type": "code",
      "metadata": {
        "id": "R5qiGrBGZYUu",
        "colab": {
          "base_uri": "https://localhost:8080/"
        },
        "outputId": "f04f4345-bdb0-402f-c18f-75e0d41b8c9a"
      },
      "source": [
        "prod_id = str(input(\"Enter product id:\"))\n",
        "Name = str(input(\"Enter name:\"))\n",
        "Price = int(input(\"Enter price:\"))\n",
        "Quantity=int(input(\"Enter quantity:\"))\n",
        "\n",
        "record[prod_id] = {'Name': Name, 'Price': Price, 'Quantity': Quantity}\n",
        "\n",
        "js = json.dumps(record)\n",
        "\n",
        "fd = open(\"record.json\",'w')\n",
        "fd.write(js)\n",
        "fd.close()"
      ],
      "execution_count": 3,
      "outputs": [
        {
          "name": "stdout",
          "output_type": "stream",
          "text": [
            "Enter product id:1031\n",
            "Enter name:milkshake\n",
            "Enter price:25\n",
            "Enter quantity:2\n"
          ]
        }
      ]
    },
    {
      "cell_type": "code",
      "metadata": {
        "colab": {
          "base_uri": "https://localhost:8080/"
        },
        "id": "CHb5gXp-3Lr4",
        "outputId": "d6095f8e-0dab-47be-e3bc-3836440f2cb5"
      },
      "source": [
        "#to check\n",
        "record"
      ],
      "execution_count": 4,
      "outputs": [
        {
          "output_type": "execute_result",
          "data": {
            "text/plain": [
              "{'1001': {'Name': 'Biscuit', 'Price': 50, 'Quantity': 100},\n",
              " '1002': {'Name': 'Chips', 'Price': 10, 'Quantity': 200},\n",
              " '1003': {'Name': 'Shampoo', 'Price': 125, 'Quantity': 100},\n",
              " '1004': {'Name': 'Chocolate', 'Price': 10, 'Quantity': 1000},\n",
              " '1005': {'Name': 'Pen', 'Price': 20, 'Quantity': 100},\n",
              " '1006': {'Name': 'Oil', 'Price': 75, 'Quantity': 100},\n",
              " '1007': {'Name': 'Bottles', 'Price': 170, 'Quantity': 200},\n",
              " '1008': {'Name': 'Umbrella', 'Price': 300, 'Quantity': 30},\n",
              " '1009': {'Name': 'Graph', 'Price': 1, 'Quantity': 100},\n",
              " '1010': {'Name': 'Lipstick', 'Price': 70, 'Quantity': 50},\n",
              " '1011': {'Name': 'Comb', 'Price': 25, 'Quantity': 70},\n",
              " '1012': {'Name': 'Band', 'Price': 10, 'Quantity': 100},\n",
              " '1013': {'Name': 'Pencil', 'Price': 10, 'Quantity': 200},\n",
              " '1014': {'Name': 'Cutter', 'Price': 95, 'Quantity': 20},\n",
              " '1015': {'Name': 'Plates', 'Price': 25, 'Quantity': 100},\n",
              " '1016': {'Name': 'Hair Gel', 'Price': 200, 'Quantity': 80},\n",
              " '1017': {'Name': 'Towel', 'Price': 300, 'Quantity': 25},\n",
              " '1018': {'Name': 'Chair', 'Price': 575, 'Quantity': 10},\n",
              " '1019': {'Name': 'Frame', 'Price': 170, 'Quantity': 20},\n",
              " '1020': {'Name': 'Toys', 'Price': 300, 'Quantity': 30},\n",
              " '1021': {'Name': 'Cake', 'Price': 25, 'Quantity': 25},\n",
              " '1022': {'Name': 'Ice cream', 'Price': 10, 'Quantity': 200},\n",
              " '1023': {'Name': 'Milk', 'Price': 25, 'Quantity': 60},\n",
              " '1024': {'Name': 'Butter', 'Price': 185, 'Quantity': 30},\n",
              " '1025': {'Name': 'Paneer', 'Price': 190, 'Quantity': 25},\n",
              " '1026': {'Name': 'Mask', 'Price': 15, 'Quantity': 300},\n",
              " '1027': {'Name': 'Socks', 'Price': 170, 'Quantity': 100},\n",
              " '1028': {'Name': 'Pouch', 'Price': 30, 'Quantity': 100},\n",
              " '1029': {'Name': 'Scissors', 'Price': 90, 'Quantity': 100},\n",
              " '1030': {'Name': 'Gum', 'Price': 30, 'Quantity': 100},\n",
              " '1031': {'Name': 'milkshake', 'Price': 25, 'Quantity': 2}}"
            ]
          },
          "metadata": {},
          "execution_count": 4
        }
      ]
    },
    {
      "cell_type": "markdown",
      "metadata": {
        "id": "kTG-HFhUZfq6"
      },
      "source": [
        "## **Adding an existing item to the inventory**"
      ]
    },
    {
      "cell_type": "code",
      "metadata": {
        "colab": {
          "base_uri": "https://localhost:8080/"
        },
        "id": "DSMSk0FZZpDh",
        "outputId": "7de8e5bd-39ae-41cf-db24-d35811541cc8"
      },
      "source": [
        "#restocking the inventory\n",
        "#to restock the items that already exists\n",
        "prod_id = str(input(\"Enter product id:\"))\n",
        "Name = str(input(\"Enter name:\"))\n",
        "Price = int(input(\"Enter price:\"))\n",
        "prod_quan= int(input(\"Enter quantity:\"))\n",
        "if prod_id in record.keys():\n",
        "  Quantity=record[prod_id]['Quantity']=record[prod_id]['Quantity']+prod_quan\n",
        "  record[prod_id] = {'Name': Name, 'Price': Price, 'Quantity':Quantity}\n"
      ],
      "execution_count": 5,
      "outputs": [
        {
          "name": "stdout",
          "output_type": "stream",
          "text": [
            "Enter product id:1006\n",
            "Enter name:oil\n",
            "Enter price:75\n",
            "Enter quantity:250\n"
          ]
        }
      ]
    },
    {
      "cell_type": "code",
      "metadata": {
        "colab": {
          "base_uri": "https://localhost:8080/"
        },
        "id": "PMlha9-vZr-U",
        "outputId": "8a722ff0-a1a9-463e-e806-0c86156f3f4d"
      },
      "source": [
        "#to check\n",
        "record"
      ],
      "execution_count": 6,
      "outputs": [
        {
          "output_type": "execute_result",
          "data": {
            "text/plain": [
              "{'1001': {'Name': 'Biscuit', 'Price': 50, 'Quantity': 100},\n",
              " '1002': {'Name': 'Chips', 'Price': 10, 'Quantity': 200},\n",
              " '1003': {'Name': 'Shampoo', 'Price': 125, 'Quantity': 100},\n",
              " '1004': {'Name': 'Chocolate', 'Price': 10, 'Quantity': 1000},\n",
              " '1005': {'Name': 'Pen', 'Price': 20, 'Quantity': 100},\n",
              " '1006': {'Name': 'oil', 'Price': 75, 'Quantity': 350},\n",
              " '1007': {'Name': 'Bottles', 'Price': 170, 'Quantity': 200},\n",
              " '1008': {'Name': 'Umbrella', 'Price': 300, 'Quantity': 30},\n",
              " '1009': {'Name': 'Graph', 'Price': 1, 'Quantity': 100},\n",
              " '1010': {'Name': 'Lipstick', 'Price': 70, 'Quantity': 50},\n",
              " '1011': {'Name': 'Comb', 'Price': 25, 'Quantity': 70},\n",
              " '1012': {'Name': 'Band', 'Price': 10, 'Quantity': 100},\n",
              " '1013': {'Name': 'Pencil', 'Price': 10, 'Quantity': 200},\n",
              " '1014': {'Name': 'Cutter', 'Price': 95, 'Quantity': 20},\n",
              " '1015': {'Name': 'Plates', 'Price': 25, 'Quantity': 100},\n",
              " '1016': {'Name': 'Hair Gel', 'Price': 200, 'Quantity': 80},\n",
              " '1017': {'Name': 'Towel', 'Price': 300, 'Quantity': 25},\n",
              " '1018': {'Name': 'Chair', 'Price': 575, 'Quantity': 10},\n",
              " '1019': {'Name': 'Frame', 'Price': 170, 'Quantity': 20},\n",
              " '1020': {'Name': 'Toys', 'Price': 300, 'Quantity': 30},\n",
              " '1021': {'Name': 'Cake', 'Price': 25, 'Quantity': 25},\n",
              " '1022': {'Name': 'Ice cream', 'Price': 10, 'Quantity': 200},\n",
              " '1023': {'Name': 'Milk', 'Price': 25, 'Quantity': 60},\n",
              " '1024': {'Name': 'Butter', 'Price': 185, 'Quantity': 30},\n",
              " '1025': {'Name': 'Paneer', 'Price': 190, 'Quantity': 25},\n",
              " '1026': {'Name': 'Mask', 'Price': 15, 'Quantity': 300},\n",
              " '1027': {'Name': 'Socks', 'Price': 170, 'Quantity': 100},\n",
              " '1028': {'Name': 'Pouch', 'Price': 30, 'Quantity': 100},\n",
              " '1029': {'Name': 'Scissors', 'Price': 90, 'Quantity': 100},\n",
              " '1030': {'Name': 'Gum', 'Price': 30, 'Quantity': 100},\n",
              " '1031': {'Name': 'milkshake', 'Price': 25, 'Quantity': 2}}"
            ]
          },
          "metadata": {},
          "execution_count": 6
        }
      ]
    },
    {
      "cell_type": "code",
      "metadata": {
        "id": "nVPv_uRGad-s"
      },
      "source": [
        "js = json.dumps(record)\n",
        "fd = open(\"record.json\",'w')\n",
        "fd.write(js)\n",
        "fd.close()"
      ],
      "execution_count": 7,
      "outputs": []
    },
    {
      "cell_type": "markdown",
      "metadata": {
        "id": "JJctGcWxaL1a"
      },
      "source": [
        "### **Removing items from the inventory**"
      ]
    },
    {
      "cell_type": "code",
      "metadata": {
        "id": "xtpxIEbjaIpx"
      },
      "source": [
        "del record['1030']"
      ],
      "execution_count": 8,
      "outputs": []
    },
    {
      "cell_type": "code",
      "metadata": {
        "colab": {
          "base_uri": "https://localhost:8080/"
        },
        "id": "JZnDPPYqaUwb",
        "outputId": "70a8dcd3-8063-465e-cd4d-cd50544db84f"
      },
      "source": [
        "#to check the deleted record\n",
        "record"
      ],
      "execution_count": 9,
      "outputs": [
        {
          "output_type": "execute_result",
          "data": {
            "text/plain": [
              "{'1001': {'Name': 'Biscuit', 'Price': 50, 'Quantity': 100},\n",
              " '1002': {'Name': 'Chips', 'Price': 10, 'Quantity': 200},\n",
              " '1003': {'Name': 'Shampoo', 'Price': 125, 'Quantity': 100},\n",
              " '1004': {'Name': 'Chocolate', 'Price': 10, 'Quantity': 1000},\n",
              " '1005': {'Name': 'Pen', 'Price': 20, 'Quantity': 100},\n",
              " '1006': {'Name': 'oil', 'Price': 75, 'Quantity': 350},\n",
              " '1007': {'Name': 'Bottles', 'Price': 170, 'Quantity': 200},\n",
              " '1008': {'Name': 'Umbrella', 'Price': 300, 'Quantity': 30},\n",
              " '1009': {'Name': 'Graph', 'Price': 1, 'Quantity': 100},\n",
              " '1010': {'Name': 'Lipstick', 'Price': 70, 'Quantity': 50},\n",
              " '1011': {'Name': 'Comb', 'Price': 25, 'Quantity': 70},\n",
              " '1012': {'Name': 'Band', 'Price': 10, 'Quantity': 100},\n",
              " '1013': {'Name': 'Pencil', 'Price': 10, 'Quantity': 200},\n",
              " '1014': {'Name': 'Cutter', 'Price': 95, 'Quantity': 20},\n",
              " '1015': {'Name': 'Plates', 'Price': 25, 'Quantity': 100},\n",
              " '1016': {'Name': 'Hair Gel', 'Price': 200, 'Quantity': 80},\n",
              " '1017': {'Name': 'Towel', 'Price': 300, 'Quantity': 25},\n",
              " '1018': {'Name': 'Chair', 'Price': 575, 'Quantity': 10},\n",
              " '1019': {'Name': 'Frame', 'Price': 170, 'Quantity': 20},\n",
              " '1020': {'Name': 'Toys', 'Price': 300, 'Quantity': 30},\n",
              " '1021': {'Name': 'Cake', 'Price': 25, 'Quantity': 25},\n",
              " '1022': {'Name': 'Ice cream', 'Price': 10, 'Quantity': 200},\n",
              " '1023': {'Name': 'Milk', 'Price': 25, 'Quantity': 60},\n",
              " '1024': {'Name': 'Butter', 'Price': 185, 'Quantity': 30},\n",
              " '1025': {'Name': 'Paneer', 'Price': 190, 'Quantity': 25},\n",
              " '1026': {'Name': 'Mask', 'Price': 15, 'Quantity': 300},\n",
              " '1027': {'Name': 'Socks', 'Price': 170, 'Quantity': 100},\n",
              " '1028': {'Name': 'Pouch', 'Price': 30, 'Quantity': 100},\n",
              " '1029': {'Name': 'Scissors', 'Price': 90, 'Quantity': 100},\n",
              " '1031': {'Name': 'milkshake', 'Price': 25, 'Quantity': 2}}"
            ]
          },
          "metadata": {},
          "execution_count": 9
        }
      ]
    },
    {
      "cell_type": "code",
      "metadata": {
        "id": "yYdqryHvaX6D"
      },
      "source": [
        "js = json.dumps(record)\n",
        "fd = open(\"record.json\",'w')\n",
        "fd.write(js)\n",
        "fd.close()"
      ],
      "execution_count": 10,
      "outputs": []
    },
    {
      "cell_type": "code",
      "metadata": {
        "id": "ZwtjhCJx2HcZ"
      },
      "source": [
        ""
      ],
      "execution_count": null,
      "outputs": []
    }
  ]
}